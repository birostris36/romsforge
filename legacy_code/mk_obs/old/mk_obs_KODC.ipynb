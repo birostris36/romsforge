{
 "cells": [
  {
   "cell_type": "code",
   "execution_count": 71,
   "id": "cc018e00",
   "metadata": {},
   "outputs": [],
   "source": [
    "# -*- coding: utf-8 -*-\n",
    "import sys\n",
    "import xarray as xr\n",
    "import numpy as np\n",
    "from datetime import timedelta\n",
    "import datetime\n",
    "from netCDF4 import num2date, Dataset\n",
    "from scipy.spatial import cKDTree\n",
    "from matplotlib.path import Path\n",
    "import os\n",
    "# import writeObsfile  # 반드시 PYTHONPATH에 포함되어야 함\n",
    "import time\n",
    "import pandas as pd\n",
    "import matplotlib.pyplot as plt\n",
    "PKG_path = 'C:/Users/ust21/shjo/projects/myROMS/prc_src/utils/' # Location of JNUROMS directory\n",
    "sys.path.append(PKG_path)\n",
    "from ROMS_utils01 import zlevs\n",
    "\n"
   ]
  },
  {
   "cell_type": "code",
   "execution_count": 2,
   "id": "ae696573",
   "metadata": {},
   "outputs": [],
   "source": [
    "# 경로 설정\n",
    "pthG = 'D:/shjo/ROMS_inputs/'\n",
    "pth = 'C:/Users/ust21/shjo/projects/myROMS/obs_data/'"
   ]
  },
  {
   "cell_type": "code",
   "execution_count": 3,
   "id": "815f26c7",
   "metadata": {},
   "outputs": [],
   "source": [
    "# ROMS grid 열기\n",
    "ncG = Dataset(pthG + 'roms_grd_fennel_15km_smooth_v2.nc')\n",
    "lon_rho = ncG['lon_rho'][:]\n",
    "lat_rho = ncG['lat_rho'][:]\n",
    "\n",
    "# Observation 파일 출력 경로\n",
    "outputFile = 'D:/shjo/test/obs_KODC.nc'\n",
    "if os.path.exists(outputFile):\n",
    "    os.remove(outputFile)"
   ]
  },
  {
   "cell_type": "code",
   "execution_count": 4,
   "id": "2902f9c6",
   "metadata": {},
   "outputs": [],
   "source": [
    "Table1=pd.read_excel(pth+'202502_KODC_EastSea.xlsx')\n",
    "Table2=pd.read_excel(pth+'202502_KODC_WestSea.xlsx')\n",
    "Table3=pd.read_excel(pth+'202502_KODC_SouthSea.xlsx')\n",
    "Table4=pd.read_excel(pth+'202502_KODC_ECS.xlsx')\n",
    "\n"
   ]
  },
  {
   "cell_type": "code",
   "execution_count": 5,
   "id": "291d4dde",
   "metadata": {},
   "outputs": [],
   "source": [
    "Table=pd.concat([Table1,Table2,Table3,Table4],axis=0)"
   ]
  },
  {
   "cell_type": "code",
   "execution_count": 6,
   "id": "b490899f",
   "metadata": {},
   "outputs": [],
   "source": [
    "Table.columns=['Region','Year','Month','Day','min','Line','Station','Lat','Lon','Depth','Temp','Sal']\n",
    "Table.dropna(inplace=True)\n"
   ]
  },
  {
   "cell_type": "code",
   "execution_count": 7,
   "id": "9a6ac017",
   "metadata": {},
   "outputs": [],
   "source": [
    "# 공통 설정\n",
    "roms_ref = datetime.datetime(2000, 1, 1)\n",
    "firstIteration = True\n",
    "USENETCDF4 = True\n",
    "Nstate = 12\n",
    "obs_flag = 6  # SST"
   ]
  },
  {
   "cell_type": "code",
   "execution_count": 45,
   "id": "d4f9105b",
   "metadata": {},
   "outputs": [],
   "source": [
    "# 폴리곤 필터링 함수\n",
    "def get_polygon(lon_rho, lat_rho):\n",
    "    lon_bd = np.concatenate([lon_rho[:,0], lon_rho[-1,:], lon_rho[::-1,-1], lon_rho[0,::-1]])\n",
    "    lat_bd = np.concatenate([lat_rho[:,0], lat_rho[-1,:], lat_rho[::-1,-1], lat_rho[0,::-1]])\n",
    "    return np.vstack([lon_bd, lat_bd])\n",
    "\n",
    "def filter_inside_roms_polygon(obs_lon, obs_lat, lon_rho, lat_rho):\n",
    "    polygon = get_polygon(lon_rho, lat_rho)\n",
    "    path = Path(polygon.T)\n",
    "    obs_points = np.column_stack((obs_lon, obs_lat))\n",
    "    return path.contains_points(obs_points)\n",
    "\n",
    "def map_obs_to_roms_grid(obs_lon, obs_lat, lon_rho, lat_rho):\n",
    "    tree = cKDTree(np.column_stack((lon_rho.flatten(), lat_rho.flatten())))\n",
    "    obs_points = np.column_stack((obs_lon, obs_lat))\n",
    "    _, idxs = tree.query(obs_points)\n",
    "    j,i=np.unravel_index(idxs, lon_rho.shape)\n",
    "    return i,j\n",
    "\n",
    "def writeData(outputFile,obs_lat,obs_lon,obs_value,Nobs,survey_time,obs_time,obs_Xgrid,obs_Ygrid,\n",
    "                               firstIteration,lastIteration,\n",
    "                               obs_flag,obs_type,obs_error,obs_Zgrid,obs_depth,obs_variance,\n",
    "                               survey,is3d,Nstate,USENETCDF4):\n",
    "   if USENETCDF4 is True:\n",
    "      myZLIB=True\n",
    "      myformat='NETCDF4'\n",
    "   else:\n",
    "      myZLIB=False\n",
    "      myformat='NETCDF3_CLASSIC'\n",
    "\n",
    "   if firstIteration is True:\n",
    "\n",
    "      f1 = Dataset(outputFile, mode='w', format=myformat)\n",
    "      f1.description=\"This is a obs file for SST\"\n",
    "      f1.history = 'Created ' + time.ctime(time.time())\n",
    "      f1.source = 'Trond Kristiansen (trond.kristiansen@imr.no)'\n",
    "      f1.type='NetCDF4 using program createMapNS.py'\n",
    "\n",
    "      f1.options='Program requires: getCortad.py and writeObsfile.py'\n",
    "\n",
    "      \"\"\" Define dimensions \"\"\"\n",
    "      f1.createDimension('one', 1)\n",
    "      f1.createDimension('state_variable', Nstate)\n",
    "      f1.createDimension('datum', None)\n",
    "\n",
    "      v_spherical = f1.createVariable('spherical', 'c', ('one',),zlib=myZLIB)\n",
    "      v_spherical.long_name = 'grid type logical switch'\n",
    "      v_spherical.option_T  = \"spherical\"\n",
    "      v_spherical.option_F  = \"Cartesian\"\n",
    "      v_spherical[:]        = \"T\"\n",
    "\n",
    "      v_obs_type = f1.createVariable('obs_type', 'i', ('datum',),zlib=myZLIB)\n",
    "      v_obs_type.long_name = 'model state variable associated with observation'\n",
    "      v_obs_type.opt_1 ='free-surface'\n",
    "      v_obs_type.opt_2 ='vertically integrated u-momentum component';\n",
    "      v_obs_type.opt_3 ='vertically integrated v-momentum component';\n",
    "      v_obs_type.opt_4 ='u-momentum component'\n",
    "      v_obs_type.opt_5 ='v-momentum component'\n",
    "      v_obs_type.opt_6 ='potential temperature'\n",
    "      v_obs_type.opt_7 ='salinity'\n",
    "      v_obs_type[:]    = obs_type\n",
    "\n",
    "      v_time = f1.createVariable('obs_time', 'd', ('datum',),zlib=myZLIB)\n",
    "      v_time.long_name = 'Time of observation'\n",
    "      v_time.units     = 'days'\n",
    "      v_time.field     = 'time, scalar, series'\n",
    "      v_time.calendar  = 'standard'\n",
    "      v_time[:]        = obs_time\n",
    "\n",
    "\n",
    "      v_obs_lon = f1.createVariable('obs_lon', 'd', ('datum',),zlib=myZLIB)\n",
    "      v_obs_lon.long_name = 'Longitude of observation'\n",
    "      v_obs_lon.units     = 'degrees_east'\n",
    "      v_obs_lon.min       = -180\n",
    "      v_obs_lon.max       = 180\n",
    "      v_obs_lon[:]        = obs_lon\n",
    "\n",
    "      v_obs_lat = f1.createVariable('obs_lat', 'd', ('datum',),zlib=myZLIB)\n",
    "      v_obs_lat.long_name = 'Latitude of observation'\n",
    "      v_obs_lat.units     = 'degrees_north'\n",
    "      v_obs_lat.min       = -90\n",
    "      v_obs_lat.max       = 90\n",
    "      v_obs_lat[:]        = obs_lat\n",
    "\n",
    "      v_obs_depth = f1.createVariable('obs_depth', 'd', ('datum',),zlib=myZLIB)\n",
    "      v_obs_depth.long_name = 'Depth of observation'\n",
    "      v_obs_depth.units     = 'meter'\n",
    "      v_obs_depth.minus     = 'downwards'\n",
    "      v_obs_depth[:]        = obs_depth\n",
    "\n",
    "      v_obs_error = f1.createVariable('obs_error', 'd', ('datum',),zlib=myZLIB)\n",
    "      v_obs_error.long_name = 'Observation error covariance'\n",
    "      v_obs_error.units     = 'squared state variable units'\n",
    "      v_obs_error[:]        = obs_error\n",
    "\n",
    "      v_obs_val = f1.createVariable('obs_value', 'd', ('datum',),zlib=myZLIB)\n",
    "      v_obs_val.long_name = 'Observation value'\n",
    "      v_obs_val.units     = 'state variable units'\n",
    "      v_obs_val[:]        = obs_value\n",
    "\n",
    "      v_obs_xgrid = f1.createVariable('obs_Xgrid', 'd', ('datum',),zlib=myZLIB)\n",
    "      v_obs_xgrid.long_name = 'x-grid observation location'\n",
    "      v_obs_xgrid.units     = 'nondimensional'\n",
    "      v_obs_xgrid.left      = \"INT(obs_Xgrid(datum))\"\n",
    "      v_obs_xgrid.right     = \"INT(obs_Xgrid(datum))+1\"\n",
    "      v_obs_xgrid[:]        = obs_Xgrid\n",
    "\n",
    "      v_obs_ygrid = f1.createVariable('obs_Ygrid', 'd', ('datum',),zlib=myZLIB)\n",
    "      v_obs_ygrid.long_name = 'y-grid observation location'\n",
    "      v_obs_ygrid.units     = 'nondimensional'\n",
    "      v_obs_ygrid.top       = \"INT(obs_Ygrid(datum))+1\"\n",
    "      v_obs_ygrid.bottom    = \"INT(obs_Ygrid(datum))\"\n",
    "      v_obs_ygrid[:]        = obs_Ygrid\n",
    "\n",
    "      v_obs_zgrid = f1.createVariable('obs_Zgrid', 'd', ('datum',),zlib=myZLIB)\n",
    "      v_obs_zgrid.long_name = 'z-grid observation location'\n",
    "      v_obs_zgrid.units     = 'nondimensional'\n",
    "      v_obs_zgrid.up        = \"INT(obs_Zgrid(datum))+1\"\n",
    "      v_obs_zgrid.down      = \"INT(obs_Zgrid(datum))\"\n",
    "      v_obs_zgrid[:]        = obs_Zgrid\n",
    "\n",
    "      t0 = time.time()\n",
    "      \"\"\"Find index for ading new info to arrays (same for all variables)\"\"\"\n",
    "      myshape=f1.variables[\"obs_Zgrid\"][:].shape\n",
    "      indexStart=myshape[0]\n",
    "      indexEnd=obs_Zgrid.shape[0]+myshape[0]\n",
    "      t1 = time.time()\n",
    "      print (\"array append created in %s seconds\"%(t1-t0))\n",
    "\n",
    "      f1.close()\n",
    "\n",
    "   # if firstIteration is False and lastIteration is False:\n",
    "   if firstIteration is False :\n",
    "\n",
    "      f1 = Dataset(outputFile, mode='a', format=myformat)\n",
    "\n",
    "      t0 = time.time()\n",
    "      \"\"\"Find index for ading new info to arrays (same for all variables)\"\"\"\n",
    "      myshape=f1.variables[\"obs_Zgrid\"][:].shape\n",
    "      indexStart=myshape[0]\n",
    "      indexEnd=obs_Zgrid.shape[0]+myshape[0]\n",
    "\n",
    "      f1.variables[\"obs_type\"][indexStart:indexEnd] = obs_type\n",
    "      f1.variables[\"obs_time\"][indexStart:indexEnd] = obs_time\n",
    "      f1.variables[\"obs_lon\"][indexStart:indexEnd] = obs_lon\n",
    "      f1.variables[\"obs_lat\"][indexStart:indexEnd] = obs_lat\n",
    "      f1.variables[\"obs_depth\"][indexStart:indexEnd] = obs_depth\n",
    "      f1.variables[\"obs_error\"][indexStart:indexEnd] = obs_error\n",
    "      f1.variables[\"obs_value\"][indexStart:indexEnd] = obs_value\n",
    "      f1.variables[\"obs_Xgrid\"][indexStart:indexEnd] = obs_Xgrid\n",
    "      f1.variables[\"obs_Ygrid\"][indexStart:indexEnd] = obs_Ygrid\n",
    "      f1.variables[\"obs_Zgrid\"][indexStart:indexEnd] = obs_Zgrid\n",
    "    \n",
    "      t1 = time.time()\n",
    "      print (\"array append created in %s seconds\"%(t1-t0))\n",
    "      f1.close()\n",
    "\n",
    "   if lastIteration is True:\n",
    "\n",
    "      f1 = Dataset(outputFile, mode='a', format=myformat)\n",
    "\n",
    "      f1.createDimension('survey', survey)\n",
    "\n",
    "      v_obs = f1.createVariable('Nobs', 'i', ('survey',),zlib=myZLIB)\n",
    "      v_obs.long_name = 'number of observations with the same survey time'\n",
    "      v_obs.field     = 'scalar, series'\n",
    "      v_obs[:]        = Nobs\n",
    "\n",
    "      v_time = f1.createVariable('survey_time', 'i', ('survey',),zlib=myZLIB)\n",
    "      v_time.long_name = 'Survey time'\n",
    "      v_time.units     = 'day'\n",
    "      v_time.field     = 'time, scalar, series'\n",
    "      v_time.calendar  = 'standard'\n",
    "      v_time[:]        = survey_time\n",
    "\n",
    "      v_obs_var = f1.createVariable('obs_variance', 'd', ('state_variable',),zlib=myZLIB)\n",
    "      v_obs_var.long_name = 'global time and space observation variance'\n",
    "      v_obs_var.units     = 'squared state variable units'\n",
    "      v_obs_var[:]        = obs_variance\n",
    "\n",
    "      f1.close()\n"
   ]
  },
  {
   "cell_type": "code",
   "execution_count": 46,
   "id": "73526da4",
   "metadata": {},
   "outputs": [],
   "source": [
    "year = 2025\n",
    "# datetime.datetime(year, month, day, hour, minute)\n",
    "datetimes = np.array([\n",
    "    datetime.datetime(year, m, d, t.hour, t.minute) - timedelta(hours=9) \n",
    "    for m, d, t in zip(Table['Month'].values, Table['Day'].values, Table['min'].values,)\n",
    "])\n",
    "Table['time']=datetimes"
   ]
  },
  {
   "cell_type": "code",
   "execution_count": 47,
   "id": "b6b5985b",
   "metadata": {},
   "outputs": [],
   "source": [
    "all_Nobs=[]\n",
    "all_survey_times = []"
   ]
  },
  {
   "cell_type": "code",
   "execution_count": 48,
   "id": "771c5838",
   "metadata": {},
   "outputs": [],
   "source": [
    "# 3. ROMS 기준 날짜로부터 days 계산\n",
    "roms_ref = datetime.datetime(2000, 1, 1)\n",
    "obs_time = np.array([(dt - roms_ref).total_seconds() / 86400.0 for dt in datetimes])"
   ]
  },
  {
   "cell_type": "code",
   "execution_count": 49,
   "id": "f21d7d8b",
   "metadata": {},
   "outputs": [],
   "source": [
    "A=pd.DataFrame({'region':Table['Region'].values,'lat':Table['Lat'].values,'lon':Table['Lon'].values,'temp':Table['Temp'].values,'salt':Table['Sal'].values,'depth':Table['Depth'].values,'time':Table.time.values})\n",
    "A['obs_time']=obs_time\n",
    "df_sorted = A.sort_values(by=\"time\")\n",
    "df_sorted=df_sorted.set_index(df_sorted.time).drop('time',axis=1)\n",
    "idt=np.unique(df_sorted.index)\n",
    "#A=A.set_index(A.time).drop('time',axis=1)"
   ]
  },
  {
   "cell_type": "code",
   "execution_count": 89,
   "id": "18261001",
   "metadata": {},
   "outputs": [],
   "source": [
    "for ii in df_sorted.groupby(level=0):\n",
    "    df_t = ii[1]  # 시간 그룹의 DataFrame\n",
    "\n",
    "    obs_lat = df_t['lat'].values\n",
    "    obs_lon = df_t['lon'].values\n",
    "\n",
    "    # 바운더리 필터\n",
    "    inside = filter_inside_roms_polygon(obs_lon, obs_lat, lon_rho, lat_rho)\n",
    "    df_inside = df_t[inside]\n",
    "\n",
    "    # temp와 salt 모두 유효한 행들 추출 → 병합\n",
    "    rows = []\n",
    "\n",
    "    for _, row in df_inside.iterrows():\n",
    "        if not np.isnan(row['temp']):\n",
    "            rows.append({\n",
    "                \"lat\": row['lat'],\n",
    "                \"lon\": row['lon'],\n",
    "                \"depth\": row['depth'],\n",
    "                \"value\": row['temp'],\n",
    "                \"type\": 6,\n",
    "                \"error\": 0.3\n",
    "            })\n",
    "        if not np.isnan(row['salt']):\n",
    "            rows.append({\n",
    "                \"lat\": row['lat'],\n",
    "                \"lon\": row['lon'],\n",
    "                \"depth\": row['depth'],\n",
    "                \"value\": row['salt'],\n",
    "                \"type\": 7,\n",
    "                \"error\": 0.3\n",
    "            })\n",
    "\n",
    "    if len(rows) == 0:\n",
    "        continue\n",
    "\n",
    "    # DataFrame으로 병합\n",
    "    df_obs = pd.DataFrame(rows)\n",
    "\n",
    "    # 값 추출\n",
    "    obs_lat   = df_obs[\"lat\"].values\n",
    "    obs_lon   = df_obs[\"lon\"].values\n",
    "    obs_depth = df_obs[\"depth\"].values\n",
    "    obs_value = df_obs[\"value\"].values\n",
    "    obs_type  = df_obs[\"type\"].values\n",
    "    obs_error = np.maximum(df_obs[\"error\"].values * np.abs(obs_value), 1e-3)  # 최소값 제한\n",
    "    obs_Zgrid = np.zeros_like(obs_value)\n",
    "\n",
    "    # grid 매핑\n",
    "    obs_Xgrid, obs_Ygrid = map_obs_to_roms_grid(obs_lon, obs_lat, lon_rho, lat_rho)\n",
    "\n",
    "    # 시간 처리\n",
    "    obs_time_val = df_inside['obs_time'].values[0]\n",
    "    obs_time     = np.ones_like(obs_value) * obs_time_val\n",
    "\n",
    "    # 중단점\n",
    "    break"
   ]
  },
  {
   "cell_type": "code",
   "execution_count": 90,
   "id": "067bdd99",
   "metadata": {},
   "outputs": [],
   "source": [
    "Nobs = len(obs_value)\n",
    "all_Nobs.append(Nobs)\n"
   ]
  },
  {
   "cell_type": "code",
   "execution_count": 91,
   "id": "933e8c36",
   "metadata": {},
   "outputs": [
    {
     "data": {
      "text/plain": [
       "array([0., 0., 0., 0., 0., 0., 0., 0.])"
      ]
     },
     "execution_count": 91,
     "metadata": {},
     "output_type": "execute_result"
    }
   ],
   "source": [
    "obs_lat\n",
    "obs_lon\n",
    "obs_depth\n",
    "obs_Zgrid"
   ]
  },
  {
   "cell_type": "code",
   "execution_count": 92,
   "id": "8f985c18",
   "metadata": {},
   "outputs": [
    {
     "data": {
      "text/plain": [
       "array([ 0,  0, 20, 20, 30, 30, 10, 10])"
      ]
     },
     "execution_count": 92,
     "metadata": {},
     "output_type": "execute_result"
    }
   ],
   "source": [
    "obs_depth"
   ]
  },
  {
   "cell_type": "code",
   "execution_count": 105,
   "id": "74aab8f9",
   "metadata": {},
   "outputs": [],
   "source": [
    "ncG = Dataset(pthG + 'roms_grd_fennel_15km_smooth_v2.nc')\n",
    "h=ncG['h'][:]\n",
    "h_point=h[obs_Ygrid, obs_Xgrid]"
   ]
  },
  {
   "cell_type": "code",
   "execution_count": 106,
   "id": "0b6a493d",
   "metadata": {},
   "outputs": [
    {
     "data": {
      "text/plain": [
       "masked_array(data=[76.57686998, 76.57686998, 76.57686998, 76.57686998,\n",
       "                   76.57686998, 76.57686998, 76.57686998, 76.57686998],\n",
       "             mask=False,\n",
       "       fill_value=1e+20)"
      ]
     },
     "execution_count": 106,
     "metadata": {},
     "output_type": "execute_result"
    }
   ],
   "source": [
    "h_point"
   ]
  },
  {
   "cell_type": "code",
   "execution_count": 107,
   "id": "ce3f857b",
   "metadata": {},
   "outputs": [],
   "source": [
    "# 예시 파라미터 \n",
    "Vtransform = 2\n",
    "Vstretching = 4\n",
    "theta_s = 6.5\n",
    "theta_b = 1\n",
    "hc = 400\n",
    "N = 36\n",
    "igrid = 1  # rho grid\n",
    "\n",
    "# 관측점 위치에 보간된 h (예시: h_interp = 70.0)\n",
    "h_point = np.array([[h_point[0]]])  # shape (1,1)\n",
    "zeta = np.array([[0.0]])  # 수면 높이 (없으면 0으로)\n",
    "\n",
    "# 1. σ-layer 수심 계산\n",
    "z_r = zlevs(Vtransform, Vstretching, theta_s, theta_b, hc, N, igrid, h_point, zeta)\n",
    "z_r = np.squeeze(z_r)  # shape (N,)\n",
    "\n",
    "# 2. 관측 수심 예시\n",
    "\n",
    "# 3. 가장 가까운 σ-layer index 찾기\n"
   ]
  },
  {
   "cell_type": "code",
   "execution_count": 108,
   "id": "7c0bdb16",
   "metadata": {},
   "outputs": [
    {
     "ename": "ValueError",
     "evalue": "operands could not be broadcast together with shapes (36,) (8,) ",
     "output_type": "error",
     "traceback": [
      "\u001b[1;31m---------------------------------------------------------------------------\u001b[0m",
      "\u001b[1;31mValueError\u001b[0m                                Traceback (most recent call last)",
      "Cell \u001b[1;32mIn[108], line 1\u001b[0m\n\u001b[1;32m----> 1\u001b[0m obs_Zgrid \u001b[38;5;241m=\u001b[39m \u001b[38;5;28mint\u001b[39m(np\u001b[38;5;241m.\u001b[39margmin(np\u001b[38;5;241m.\u001b[39mabs(z_r \u001b[38;5;241m-\u001b[39m obs_depth)))\n",
      "\u001b[1;31mValueError\u001b[0m: operands could not be broadcast together with shapes (36,) (8,) "
     ]
    }
   ],
   "source": [
    "obs_Zgrid = int(np.argmin(np.abs(z_r - obs_depth)))"
   ]
  },
  {
   "cell_type": "code",
   "execution_count": 109,
   "id": "479cb5d2",
   "metadata": {},
   "outputs": [],
   "source": [
    "obs_depth = -35.2  # 관측 수심 (positive downward)\n",
    "obs_Zgrid = int(np.argmin(np.abs(z_r - obs_depth)))\n"
   ]
  },
  {
   "cell_type": "code",
   "execution_count": 110,
   "id": "fefd09b1",
   "metadata": {},
   "outputs": [
    {
     "data": {
      "text/plain": [
       "array([-75.03655518, -71.97491796, -68.96572899, -66.03335127,\n",
       "       -63.19329471, -60.45347243, -57.81578773, -55.27773151,\n",
       "       -52.83380614, -50.47669473, -48.19816152, -45.98970622,\n",
       "       -43.84301221, -41.75023236, -39.70415302, -37.6982709 ,\n",
       "       -35.72681024, -33.78470118, -31.86753496, -29.9715065 ,\n",
       "       -28.09335201, -26.23028641, -24.37994351, -22.54032076,\n",
       "       -20.70972938, -18.88675009, -17.07019447, -15.25907143,\n",
       "       -13.45255869, -11.64997849,  -9.85077729,  -8.05450899,\n",
       "        -6.26082122,  -4.46944445,  -2.68018358,  -0.89291187])"
      ]
     },
     "execution_count": 110,
     "metadata": {},
     "output_type": "execute_result"
    }
   ],
   "source": [
    "z_r"
   ]
  },
  {
   "cell_type": "code",
   "execution_count": 111,
   "id": "12ab8276",
   "metadata": {},
   "outputs": [
    {
     "data": {
      "text/plain": [
       "np.float64(-35.72681023758124)"
      ]
     },
     "execution_count": 111,
     "metadata": {},
     "output_type": "execute_result"
    }
   ],
   "source": [
    "z_r[obs_Zgrid]"
   ]
  },
  {
   "cell_type": "code",
   "execution_count": null,
   "id": "fdd6a2f4",
   "metadata": {},
   "outputs": [],
   "source": []
  }
 ],
 "metadata": {
  "kernelspec": {
   "display_name": "myROMS",
   "language": "python",
   "name": "python3"
  },
  "language_info": {
   "codemirror_mode": {
    "name": "ipython",
    "version": 3
   },
   "file_extension": ".py",
   "mimetype": "text/x-python",
   "name": "python",
   "nbconvert_exporter": "python",
   "pygments_lexer": "ipython3",
   "version": "3.11.11"
  }
 },
 "nbformat": 4,
 "nbformat_minor": 5
}
